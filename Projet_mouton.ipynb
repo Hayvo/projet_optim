{
 "metadata": {
  "language_info": {
   "codemirror_mode": {
    "name": "ipython",
    "version": 3
   },
   "file_extension": ".py",
   "mimetype": "text/x-python",
   "name": "python",
   "nbconvert_exporter": "python",
   "pygments_lexer": "ipython3",
   "version": "3.8.6-final"
  },
  "orig_nbformat": 2,
  "kernelspec": {
   "name": "python386jvsc74a57bd07fed426824b4c75a3644a2edc7ab7a5c67c006a5a5e2802a4cc95e4505b0c96b",
   "display_name": "Python 3.8.6 64-bit"
  }
 },
 "nbformat": 4,
 "nbformat_minor": 2,
 "cells": [
  {
   "source": [
    "# __Projet Optimisation enclos mouton__\n",
    "\n",
    "## __1) Etude du problème d'Optimisation\n",
    "\n",
    "### __Réponse 1__\n",
    "\n",
    "On cherche à optimiser $z = (x_0,...,x_N,y_0,...,y_N)$ qui est de taille $2N + 2 = n$.\n",
    "\n",
    "### __Réponse 2__\n",
    "\n",
    "On souhaite maximiser $- J(z) =\\frac{1}{2} \\sum_{i = 0}^{N-1} (x_{i+1}-x_i)(y_{i+1} + y_i)$ qui représente l'aire de l'enclos.\n",
    "\n",
    "### __Réponse 3__\n",
    "\n",
    "On a les contraintes suivantes :\n",
    "\n",
    "$$g_i(z) = x_{i} - x_{i+1} < 0$$\n",
    "$$h_i(z) = -y_i \\leq 0$$ pour $i = 1$ à $N$\n",
    "et $$\\sum_{i = 0}^{N-1} \\sqrt{(x_{i+1} - x_i)^2 + (y_{i+1} -y_i)^2} - L = 0$$ \n",
    "\n",
    "On peut se contenter de garder que la dernière contrainte que l'on notera $g(z) = 0$\n",
    "\n",
    "Ansi le problème est $$\\min_{z \\in \\mathbb{R}^n,g(z) = 0} J(z)$$\n",
    "\n",
    "### __Réponse 4__\n",
    "\n",
    "Considérons $z_1$ et $z_2$ ainsi que $t \\in [0,1]$. On a donc \n",
    "\n",
    "$$J(tz_1 + (1-t)z_2) = -\\frac{1}{2}\\sum_{i=0}^{N-1} \\left(t(x_{i+1}^1 - x_i^1) + (1-t)(x_{i+1}^2 - x_i^2) \\right) \\left(t)(y_{i+1}^1 + y_1^1) + (1-t)(y_{i+1}^2 + y_i^2) \\right)$$\n",
    "$$ = -\\frac{1}{2}\\sum_{i=0}^{N-1} t^2(x_{i+1}^1 - x_i^1)(y_{i+1}^1 + y_1^1) + (1-t)^2 (x_{i+1}^2 - x_i^2)(y_{i+1}^2 + y_i^2) + t(1-t)(x_{i+1}^1 - x_i^1)(y_{i+1}^2 + y_i^2) + t(1-t)(x_{i+1}^2 - x_i^2)(y_{i+1}^1 + y_1^1)$$\n",
    "$$ = tJ(z_1) + (1-t)J(z_2) -\\frac{t(1-t)}{2}\\sum_{i=0}^{N-1} (x_{i+1}^1 - x_i^1)(y_{i+1}^2 + y_i^2) + (x_{i+1}^2 - x_i^2)(y_{i+1}^1 + y_1^1)$$\n",
    "$$ = tJ(z_1) + (1-t)J(z_2) + H(z_1,z_2)$$\n",
    "\n",
    "Avec $H(z_1,z_2) = -\\frac{t(1-t)}{2}\\sum_{i=0}^{N-1} (x_{i+1}^1 - x_i^1)(y_{i+1}^2 + y_i^2) + (x_{i+1}^2 - x_i^2)(y_{i+1}^1 + y_1^1)$\n",
    "\n",
    "A priori $H$ peut être négatif si $\\forall k,i \\in \\{1,2\\}\\times [0,N] y_i^k < 0$\n",
    "\n",
    "Or on a les conditions $\\forall k,i \\in \\{1,2\\}\\times [0,N-1]$ $x_{i+1}^2 > x_{i}^k$ et $y_i^k \\geq 0$. Sous ces conditions $H$ est tout le temps positif.\n",
    "\n",
    "Donc $J(tz_1 + (1-t)z_2) \\leq tJ(z_1) + (1-t)J(z_2)$\n",
    "\n",
    "Donc a priori le problème est convexe."
   ],
   "cell_type": "markdown",
   "metadata": {}
  },
  {
   "source": [
    "## __2) Résolution numérique__\n",
    "\n",
    "### __Réponse 5__"
   ],
   "cell_type": "markdown",
   "metadata": {}
  },
  {
   "cell_type": "code",
   "execution_count": 1,
   "metadata": {},
   "outputs": [],
   "source": [
    "import numpy as np \n",
    "import matplotlib.pyplot as plt \n",
    "import scipy.optimize as optimize\n",
    "\n",
    "%matplotlib inline"
   ]
  },
  {
   "source": [
    "Si `init_guess` n'est pas donné, on peut l'initialiser avec toutes ses composantes égales à $y_{max} = \\frac{L + a - b}{2}$ sauf la première et la dernière a $0$. En effet, dans ce cas la longueur de la corde est < $L$. "
   ],
   "cell_type": "markdown",
   "metadata": {}
  },
  {
   "cell_type": "code",
   "execution_count": 1,
   "metadata": {},
   "outputs": [],
   "source": [
    "def optimal_curve(a,b,L,N=40,d=None, init_guess = None):\n",
    "    def J(z):\n",
    "        return (-1/2)*sum((z[i+1]-z[i])*(z[N+i+2]-z[N+1+i]) for i in range(N+1))\n",
    "    def g(z):\n",
    "        return sum(np.sqrt((z[i+1]-z[i])**2 + (z[N+i+2]-z[N+1+i])**2) for i in range(N+1)) - L\n",
    "\n",
    "    if d == None:\n",
    "        d = np.linspace(a,b,N+1)\n",
    "\n",
    "    \n",
    "    "
   ]
  },
  {
   "cell_type": "code",
   "execution_count": null,
   "metadata": {},
   "outputs": [],
   "source": []
  }
 ]
}